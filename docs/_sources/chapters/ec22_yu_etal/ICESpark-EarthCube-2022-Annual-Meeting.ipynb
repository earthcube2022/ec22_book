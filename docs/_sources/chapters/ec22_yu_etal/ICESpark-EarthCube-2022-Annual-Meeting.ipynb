{
 "cells": [
  {
   "cell_type": "markdown",
   "metadata": {},
   "source": [
    "# ICESpark-EarthCube-2022-Annual-Meeting\n",
    "\n",
    "ICESpark in Action: Analyzing Large-scale Arctic Observations Using an Open-source Big Data Platform\n"
   ]
  },
  {
   "cell_type": "markdown",
   "metadata": {},
   "source": [
    "## Authors\n",
    "\n",
    "* Author1 = {\"name\": \"Jia Yu\", \"affiliation\": \"Washington State University\", \"email\": \"jia.yu1@wsu.edu\"}\n",
    "* Author2 = {\"name\": \"Yiqun Xie\", \"affiliation\": \"University of Maryland\", \"email\": \"xie@umd.edu\"}\n",
    "* Author3 = {\"name\": \"Kyle Duncan\", \"affiliation\": \"University of Maryland\", \"email\": \"kduncan@umd.edu\"}\n",
    "* Author4 = {\"name\": \"Sinead Louise Farrell\", \"affiliation\": \"University of Maryland\", \"email\": \"sineadf@umd.edu\"}"
   ]
  },
  {
   "cell_type": "markdown",
   "metadata": {},
   "source": [
    "## Table of Contents\n",
    "\n",
    "1. [ICESpark-EarthCube-2022-Annual-Meeting](#ICESpark-EarthCube-2022-Annual-Meeting)\n",
    "2. [Setup](#Setup)\n",
    "3. [Data import](#Data-import)\n",
    "4. [Demo 1: Find the crossings between ICESat-2 orbits and SODA moorings ](#Demo-1:-Find-the-crossings-between-ICESat-2-orbits-and-SODA-moorings)\n",
    "5. [Demo 2:  Find the crossing between ICESat-2 orbits and Sentinel-2 and WorldView-3 images](#Demo-2:--Find-the-crossing-between-ICESat-2-orbits-and-Sentinel-2-and-WorldView-3-images)\n",
    "6. [Demo 3: Find the crossings between ICESat-2 orbits and MOSAiC Master track of POLARSTERN cruise](#Demo-3:-Find-the-crossings-between-ICESat-2-orbits-and-MOSAiC-Master-track-of-POLARSTERN-cruise)\n",
    "7. [References](#References)\n",
    "\n",
    "## Purpose\n",
    "\n",
    "The Arctic climate system is undergoing rapid change with rising air and sea surface temperatures, accompanied by declines in Arctic glacial ice and sea ice as well as loss of snow cover on land. The combined increase in global air temperature and ice-sheet mass loss is driving sea level rise around the globe. As the Arctic region is largely inaccessible to traditional observation techniques, satellite remote sensing systems play a key role in monitoring the essential climate variables. However, the unprecedented volume and variety of geospatial big data collected by new satellite sensors have reached far beyond the capacity of computing platforms accessible to most geoscientists. ICESpark is an open-source distributed platform that can combine local commodity computers into a powerful environment that is ready for geospatial big data (GeoBD). Built on Apache Sedona [1], ICESpark comprises a set of off-the-shelf data integration tools and analytical functions to make sense of large-scale arctic observations.\n",
    "\n",
    "## Technical contributions\n",
    "\n",
    "We plan to demonstrate ICESpark through a Python Jupyter notebook running on top of a cluster of commodity computers to let the audience experience the scalability and interactivity provided by the tool. In this notebook, we demonstrate three case studies to illustrate how ICESpark may help geoscientists quickly find temporally and/or spatially coincident data across heterogenous arctic observation data. This task is typically required to validate the accuracy of new remote sensing data products, or for cross comparison of complementary polar climate variables.\n",
    "\n",
    "## Results\n",
    "\n",
    "\n",
    "* The first case study includes Stratified Ocean Dynamics of the Arctic (SODA) moorings [2] and ICESat-2 reference ground tracks (RGTs) [3], where the goal is to find all ICESat-2 orbits falling within a 50 km search radius around the mooring sites.\n",
    "* The second case study integrates Sentinel-2 [4] and WorldView-3 [5] imagery to discover the spatial overlaps between ICESat-2 RGTs and tiles from these high-resolution imagery datasets.\n",
    "* The last case study compares the aforementioned lCESat 2 orbits (RGTs) against the MOSAiC expedition cruise master track data [6 - 9]. The goal of this study is to find the spatio-temporal overalps between ICESat-Z orbits and a 50KM search radius around each reported cruise location.\n",
    "\n",
    "\n",
    "## Funding\n",
    "\n",
    "* Award1 = {\"agency\": \"US National Science Foundation\", \"award_code\": \"2126449\", \"award_URL\": \"https://www.nsf.gov/awardsearch/showAward?AWD_ID=2126449&HistoricalAwards=false\"}\n",
    "\n",
    "* Award2 = {\"agency\": \"US National Science Foundation\", \"award_code\": \"2126474\", \"award_URL\": \"https://www.nsf.gov/awardsearch/showAward?AWD_ID=2126474&HistoricalAwards=false\"}\n",
    "\n",
    "\n",
    "## Keywords\n",
    "\n",
    "keywords=[\"arctic observation\", \"big data\", \"cluster computing\"]\n"
   ]
  },
  {
   "cell_type": "markdown",
   "metadata": {},
   "source": [
    "# Setup\n",
    "\n",
    "## Library import"
   ]
  },
  {
   "cell_type": "code",
   "execution_count": 1,
   "metadata": {
    "scrolled": true
   },
   "outputs": [],
   "source": [
    "## Import local library\n",
    "import os\n",
    "from datetime import datetime\n",
    "\n",
    "## Import GeoPandas\n",
    "import geopandas as gpd\n",
    "\n",
    "## Import PySpark\n",
    "from pyspark.sql import SparkSession\n",
    "from pyspark.sql.types import *\n",
    "from pyspark.sql.functions import col, expr, broadcast, udf\n",
    "\n",
    "## Import Apache Sedona\n",
    "from sedona.register import SedonaRegistrator\n",
    "from sedona.utils import SedonaKryoRegistrator, KryoSerializer\n",
    "from sedona.core.formatMapper.shapefileParser import ShapefileReader\n",
    "from sedona.utils.adapter import Adapter"
   ]
  },
  {
   "cell_type": "markdown",
   "metadata": {},
   "source": [
    "## Initialize the cluster environment"
   ]
  },
  {
   "cell_type": "code",
   "execution_count": 2,
   "metadata": {
    "scrolled": true
   },
   "outputs": [
    {
     "name": "stderr",
     "output_type": "stream",
     "text": [
      "22/04/20 19:52:15 WARN Utils: Your hostname, jia-imac.local resolves to a loopback address: 127.0.0.1; using 10.71.12.51 instead (on interface en0)\n",
      "22/04/20 19:52:15 WARN Utils: Set SPARK_LOCAL_IP if you need to bind to another address\n",
      "WARNING: An illegal reflective access operation has occurred\n",
      "WARNING: Illegal reflective access by org.apache.spark.unsafe.Platform (file:/Users/jiayu/.local/share/virtualenvs/gallery-icespark-yOC315wH/lib/python3.8/site-packages/pyspark/jars/spark-unsafe_2.12-3.1.2.jar) to constructor java.nio.DirectByteBuffer(long,int)\n",
      "WARNING: Please consider reporting this to the maintainers of org.apache.spark.unsafe.Platform\n",
      "WARNING: Use --illegal-access=warn to enable warnings of further illegal reflective access operations\n",
      "WARNING: All illegal access operations will be denied in a future release\n"
     ]
    },
    {
     "name": "stdout",
     "output_type": "stream",
     "text": [
      ":: loading settings :: url = jar:file:/Users/jiayu/.local/share/virtualenvs/gallery-icespark-yOC315wH/lib/python3.8/site-packages/pyspark/jars/ivy-2.4.0.jar!/org/apache/ivy/core/settings/ivysettings.xml\n"
     ]
    },
    {
     "name": "stderr",
     "output_type": "stream",
     "text": [
      "Ivy Default Cache set to: /Users/jiayu/.ivy2/cache\n",
      "The jars for the packages stored in: /Users/jiayu/.ivy2/jars\n",
      "org.apache.sedona#sedona-python-adapter-3.0_2.12 added as a dependency\n",
      "org.datasyslab#geotools-wrapper added as a dependency\n",
      ":: resolving dependencies :: org.apache.spark#spark-submit-parent-22c315bb-e727-425e-b708-18068977ffae;1.0\n",
      "\tconfs: [default]\n",
      "\tfound org.apache.sedona#sedona-python-adapter-3.0_2.12;1.2.0-incubating in central\n",
      "\tfound org.locationtech.jts#jts-core;1.18.0 in local-m2-cache\n",
      "\tfound org.wololo#jts2geojson;0.16.1 in local-m2-cache\n",
      "\tfound com.fasterxml.jackson.core#jackson-databind;2.12.2 in local-m2-cache\n",
      "\tfound com.fasterxml.jackson.core#jackson-annotations;2.12.2 in local-m2-cache\n",
      "\tfound com.fasterxml.jackson.core#jackson-core;2.12.2 in local-m2-cache\n",
      "\tfound org.apache.sedona#sedona-core-3.0_2.12;1.2.0-incubating in local-m2-cache\n",
      "\tfound org.scala-lang.modules#scala-collection-compat_2.12;2.5.0 in local-m2-cache\n",
      "\tfound org.apache.sedona#sedona-sql-3.0_2.12;1.2.0-incubating in local-m2-cache\n",
      "\tfound org.datasyslab#geotools-wrapper;1.1.0-25.2 in local-m2-cache\n",
      ":: resolution report :: resolve 247ms :: artifacts dl 5ms\n",
      "\t:: modules in use:\n",
      "\tcom.fasterxml.jackson.core#jackson-annotations;2.12.2 from local-m2-cache in [default]\n",
      "\tcom.fasterxml.jackson.core#jackson-core;2.12.2 from local-m2-cache in [default]\n",
      "\tcom.fasterxml.jackson.core#jackson-databind;2.12.2 from local-m2-cache in [default]\n",
      "\torg.apache.sedona#sedona-core-3.0_2.12;1.2.0-incubating from local-m2-cache in [default]\n",
      "\torg.apache.sedona#sedona-python-adapter-3.0_2.12;1.2.0-incubating from central in [default]\n",
      "\torg.apache.sedona#sedona-sql-3.0_2.12;1.2.0-incubating from local-m2-cache in [default]\n",
      "\torg.datasyslab#geotools-wrapper;1.1.0-25.2 from local-m2-cache in [default]\n",
      "\torg.locationtech.jts#jts-core;1.18.0 from local-m2-cache in [default]\n",
      "\torg.scala-lang.modules#scala-collection-compat_2.12;2.5.0 from local-m2-cache in [default]\n",
      "\torg.wololo#jts2geojson;0.16.1 from local-m2-cache in [default]\n",
      "\t:: evicted modules:\n",
      "\torg.locationtech.jts#jts-core;1.18.1 by [org.locationtech.jts#jts-core;1.18.0] in [default]\n",
      "\t---------------------------------------------------------------------\n",
      "\t|                  |            modules            ||   artifacts   |\n",
      "\t|       conf       | number| search|dwnlded|evicted|| number|dwnlded|\n",
      "\t---------------------------------------------------------------------\n",
      "\t|      default     |   11  |   0   |   0   |   1   ||   10  |   0   |\n",
      "\t---------------------------------------------------------------------\n",
      ":: retrieving :: org.apache.spark#spark-submit-parent-22c315bb-e727-425e-b708-18068977ffae\n",
      "\tconfs: [default]\n",
      "\t0 artifacts copied, 10 already retrieved (0kB/7ms)\n",
      "22/04/20 19:52:16 WARN NativeCodeLoader: Unable to load native-hadoop library for your platform... using builtin-java classes where applicable\n",
      "Using Spark's default log4j profile: org/apache/spark/log4j-defaults.properties\n",
      "Setting default log level to \"WARN\".\n",
      "To adjust logging level use sc.setLogLevel(newLevel). For SparkR, use setLogLevel(newLevel).\n"
     ]
    }
   ],
   "source": [
    "spark = SparkSession. \\\n",
    "    builder. \\\n",
    "    appName('appName'). \\\n",
    "    master('local[*]'). \\\n",
    "    config(\"spark.serializer\", KryoSerializer.getName). \\\n",
    "    config(\"spark.kryo.registrator\", SedonaKryoRegistrator.getName). \\\n",
    "    config('spark.jars.packages',\n",
    "           'org.apache.sedona:sedona-python-adapter-3.0_2.12:1.2.0-incubating,org.datasyslab:geotools-wrapper:1.1.0-25.2'). \\\n",
    "    getOrCreate()"
   ]
  },
  {
   "cell_type": "markdown",
   "metadata": {},
   "source": [
    "## Register geospatial data support"
   ]
  },
  {
   "cell_type": "code",
   "execution_count": 3,
   "metadata": {
    "scrolled": true
   },
   "outputs": [
    {
     "name": "stderr",
     "output_type": "stream",
     "text": [
      "\r",
      "[Stage 0:>                                                          (0 + 1) / 1]\r",
      "\r",
      "                                                                                \r"
     ]
    }
   ],
   "source": [
    "SedonaRegistrator.registerAll(spark)\n",
    "sc = spark.sparkContext\n",
    "sc.setSystemProperty(\"sedona.global.charset\", \"utf8\")"
   ]
  },
  {
   "cell_type": "markdown",
   "metadata": {},
   "source": [
    "# Data import\n",
    "\n",
    "## Load ICE_SAT2 orbits into Spark\n",
    "Files are originally in KML. They are converted to a single WKT file using GDAL ogr2ogr command.\n",
    "\n",
    "The converted dataset contains 13704 orbits and has 2.6GB in size. The notebook only takes a sample of 499 orbits because of the limited resource provided in Binder environment. In addition, GitHub only allows max 100MB per file.\n",
    "\n",
    "Filename example: IS2_RGT_0702_cycle3_14-May-2019.kml.csv"
   ]
  },
  {
   "cell_type": "code",
   "execution_count": 4,
   "metadata": {
    "scrolled": true
   },
   "outputs": [],
   "source": [
    "def orbit_date(s):\n",
    "  length = len(s)\n",
    "  date_str = s[(length-19):(length-8)]\n",
    "  date_obj = datetime.strptime(date_str, '%d-%b-%Y')\n",
    "#   return date_obj.strftime(\"%Y-%m-%d\")\n",
    "  return date_obj.strftime(\"%Y-%m\")\n",
    "\n",
    "# Add date UDF\n",
    "spark.udf.register(\"orbit_date\", orbit_date)\n",
    "\n",
    "# Load data and create a Date column\n",
    "spark.read.format(\"csv\").\\\n",
    "    option(\"delimiter\", \",\").\\\n",
    "    option(\"header\", \"true\").\\\n",
    "    load(\"data/IS2_RGTs_aggr_data_timestamp-head500.csv\").\\\n",
    "    withColumn(\"date\", expr(\"orbit_date(filename)\")).\\\n",
    "    repartition(10).\\\n",
    "    createOrReplaceTempView(\"is2_df_raw\")"
   ]
  },
  {
   "cell_type": "markdown",
   "metadata": {},
   "source": [
    "## Create DataFrame with a Geometry column"
   ]
  },
  {
   "cell_type": "code",
   "execution_count": 5,
   "metadata": {
    "scrolled": true
   },
   "outputs": [
    {
     "name": "stderr",
     "output_type": "stream",
     "text": [
      "                                                                                \r"
     ]
    },
    {
     "name": "stdout",
     "output_type": "stream",
     "text": [
      "+--------------------+-----+-------------+----------+-------+----------+--------------------+-------+\n",
      "|               orbit| Name| altitudeMode|tessellate|extrude|visibility|            filename|   date|\n",
      "+--------------------+-----+-------------+----------+-------+----------+--------------------+-------+\n",
      "|LINESTRING (0.027...|RGT 1|clampToGround|        -1|      0|         1|IS2_RGT_0001_cycl...|2019-03|\n",
      "|LINESTRING (0.027...|RGT 1|clampToGround|        -1|      0|         1|IS2_RGT_0001_cycl...|2020-06|\n",
      "+--------------------+-----+-------------+----------+-------+----------+--------------------+-------+\n",
      "only showing top 2 rows\n",
      "\n",
      "+----------------------------------------+\n",
      "|filename                                |\n",
      "+----------------------------------------+\n",
      "|IS2_RGT_0003_cycle10_24-Dec-2020.kml.csv|\n",
      "|IS2_RGT_0003_cycle11_25-Mar-2021.kml.csv|\n",
      "|IS2_RGT_0005_cycle2_28-Dec-2018.kml.csv |\n",
      "|IS2_RGT_0005_cycle7_26-Mar-2020.kml.csv |\n",
      "|IS2_RGT_0004_cycle2_28-Dec-2018.kml.csv |\n",
      "|IS2_RGT_0006_cycle2_28-Dec-2018.kml.csv |\n",
      "|IS2_RGT_0006_cycle5_27-Sep-2019.kml.csv |\n",
      "|IS2_RGT_0006_cycle8_25-Jun-2020.kml.csv |\n",
      "|IS2_RGT_0009_29-Dec-2018.kml.csv        |\n",
      "|IS2_RGT_0010_29-Dec-2018.kml.csv        |\n",
      "+----------------------------------------+\n",
      "only showing top 10 rows\n",
      "\n",
      "499\n"
     ]
    }
   ],
   "source": [
    "spark.sql(\"select ST_FlipCoordinates(ST_GeomFromWKT(WKT)) as orbit, Name, altitudeMode, tessellate, extrude, visibility, filename, date from is2_df_raw\").\\\n",
    "    createOrReplaceTempView(\"is2_df\")\n",
    "\n",
    "## Show the schema of the table\n",
    "spark.table(\"is2_df\").show(2)\n",
    "\n",
    "## Show the names of the orbits\n",
    "spark.table(\"is2_df\").select(\"filename\").show(10, truncate = False)\n",
    "\n",
    "## Print the count. The total count should be 499\n",
    "print(spark.table(\"is2_df\").count())"
   ]
  },
  {
   "cell_type": "markdown",
   "metadata": {},
   "source": [
    "## Read a country shapefile as the base map, for visualization purpose"
   ]
  },
  {
   "cell_type": "code",
   "execution_count": 6,
   "metadata": {
    "scrolled": true
   },
   "outputs": [
    {
     "name": "stderr",
     "output_type": "stream",
     "text": [
      "22/04/20 19:52:24 WARN package: Truncated the string representation of a plan since it was too large. This behavior can be adjusted by setting 'spark.sql.debug.maxToStringFields'.\n"
     ]
    },
    {
     "name": "stdout",
     "output_type": "stream",
     "text": [
      "+--------------------+--------------------+\n",
      "|            geometry|             NAME_EN|\n",
      "+--------------------+--------------------+\n",
      "|MULTIPOLYGON (((3...|Zimbabwe         ...|\n",
      "|MULTIPOLYGON (((3...|Zambia           ...|\n",
      "+--------------------+--------------------+\n",
      "only showing top 2 rows\n",
      "\n"
     ]
    }
   ],
   "source": [
    "countries = ShapefileReader.readToGeometryRDD(sc, \"data/ne_50m_admin_0_countries_lakes\")\n",
    "countries_df = Adapter.toDf(countries, spark).select(\"geometry\", \"NAME_EN\")\n",
    "countries_df.show(2)"
   ]
  },
  {
   "cell_type": "markdown",
   "metadata": {},
   "source": [
    "# Demo 1: Find the crossings between ICESat-2 orbits and SODA moorings \n",
    "\n",
    "We have 3 Stratified Ocean Dynamics of the Arctic (SODA) moorings sites at the following locations:\n",
    "\n",
    "\n",
    "SODA-A: (73.00043, -148.33627)\n",
    "\n",
    "SODA-B: (75.46388, -145.63685)\n",
    "\n",
    "SODA-C: (77.73677, -139.14153)"
   ]
  },
  {
   "cell_type": "markdown",
   "metadata": {},
   "source": [
    "## Find the crossings around three SODA objects, each of which has a 100KM buffer area, using ST_Buffer\n",
    "\n",
    "IceSat2 data needs to be converted from WGS84 (epsg:4326) CRS to meter-based epsg:4087 (WGS 84 / World Equidistant Cylindrical) using Sedona's ST_Transform"
   ]
  },
  {
   "cell_type": "code",
   "execution_count": 7,
   "metadata": {
    "scrolled": false
   },
   "outputs": [
    {
     "name": "stderr",
     "output_type": "stream",
     "text": [
      "                                                                                \r"
     ]
    },
    {
     "name": "stdout",
     "output_type": "stream",
     "text": [
      "+--------------------+------+-------------+----------+-------+----------+--------------------+-------+\n",
      "|               orbit|  Name| altitudeMode|tessellate|extrude|visibility|            filename|   date|\n",
      "+--------------------+------+-------------+----------+-------+----------+--------------------+-------+\n",
      "|LINESTRING (0.025...|RGT 22|clampToGround|        -1|      0|         1|IS2_RGT_0022_cycl...|2020-03|\n",
      "|LINESTRING (0.025...|RGT 22|clampToGround|        -1|      0|         1|IS2_RGT_0022_cycl...|2020-09|\n",
      "+--------------------+------+-------------+----------+-------+----------+--------------------+-------+\n",
      "only showing top 2 rows\n",
      "\n"
     ]
    },
    {
     "name": "stderr",
     "output_type": "stream",
     "text": [
      "                                                                                \r"
     ]
    },
    {
     "name": "stdout",
     "output_type": "stream",
     "text": [
      "SODA-A crosses:  10\n"
     ]
    },
    {
     "name": "stderr",
     "output_type": "stream",
     "text": [
      "                                                                                \r"
     ]
    },
    {
     "name": "stdout",
     "output_type": "stream",
     "text": [
      "SODA-B crosses:  0\n"
     ]
    },
    {
     "name": "stderr",
     "output_type": "stream",
     "text": [
      "\r",
      "[Stage 23:==>                                                     (1 + 19) / 20]\r"
     ]
    },
    {
     "name": "stdout",
     "output_type": "stream",
     "text": [
      "SODA-C crosses:  10\n"
     ]
    },
    {
     "name": "stderr",
     "output_type": "stream",
     "text": [
      "\r",
      "[Stage 23:================>                                       (6 + 14) / 20]\r",
      "\r",
      "                                                                                \r"
     ]
    }
   ],
   "source": [
    "result_df1 = spark.sql('SELECT * '\n",
    "                     'FROM is2_df '\n",
    "                     'WHERE ST_Intersects(ST_Buffer(ST_Transform(ST_POINT (73.00043,-148.33627), \\'epsg:4326\\',\\'epsg:4087\\'), 100000), ST_Transform(orbit, \\'epsg:4326\\',\\'epsg:4087\\'))')\n",
    "result_df1.show(2)\n",
    "print('SODA-A crosses: ', result_df1.count())\n",
    "\n",
    "result_df2 = spark.sql('SELECT * '\n",
    "                     'FROM is2_df '\n",
    "                     'WHERE ST_Intersects(ST_Buffer(ST_Transform(ST_POINT (75.46388,-145.63685), \\'epsg:4326\\',\\'epsg:4087\\'), 100000), ST_Transform(orbit, \\'epsg:4326\\',\\'epsg:4087\\'))')\n",
    "print('SODA-B crosses: ', result_df2.count())\n",
    "\n",
    "result_df3 = spark.sql('SELECT * '\n",
    "                     'FROM is2_df '\n",
    "                     'WHERE ST_Intersects(ST_Buffer(ST_Transform(ST_POINT (77.73677, -139.14153), \\'epsg:4326\\',\\'epsg:4087\\'), 100000), ST_Transform(orbit, \\'epsg:4326\\',\\'epsg:4087\\'))')\n",
    "print('SODA-C crosses: ', result_df3.count())\n"
   ]
  },
  {
   "cell_type": "markdown",
   "metadata": {},
   "source": [
    "## Find orbits in Year 2019 in the SODA-C result"
   ]
  },
  {
   "cell_type": "code",
   "execution_count": 8,
   "metadata": {
    "scrolled": false
   },
   "outputs": [
    {
     "name": "stdout",
     "output_type": "stream",
     "text": [
      "+---------------------------------------+\n",
      "|filename                               |\n",
      "+---------------------------------------+\n",
      "|IS2_RGT_0008_cycle3_29-Mar-2019.kml.csv|\n",
      "|IS2_RGT_0008_cycle5_27-Sep-2019.kml.csv|\n",
      "|IS2_RGT_0008_cycle6_27-Dec-2019.kml.csv|\n",
      "+---------------------------------------+\n",
      "\n"
     ]
    }
   ],
   "source": [
    "result_df3_sorted = result_df3.filter(\"filename LIKE \\'%2019%\\'\").sort(col('filename').asc())\n",
    "result_df3_sorted.select('filename').show(truncate = False)"
   ]
  },
  {
   "cell_type": "markdown",
   "metadata": {},
   "source": [
    "## Visualize crossings on SODA-C using GeoPandas"
   ]
  },
  {
   "cell_type": "markdown",
   "metadata": {},
   "source": [
    "### Put SODA-C into a DF and convert it to 100KM circle"
   ]
  },
  {
   "cell_type": "code",
   "execution_count": 9,
   "metadata": {
    "scrolled": true
   },
   "outputs": [
    {
     "name": "stdout",
     "output_type": "stream",
     "text": [
      "+--------------------+\n",
      "|              is2_df|\n",
      "+--------------------+\n",
      "|POINT (-1804587.9...|\n",
      "|POINT (-1555620.5...|\n",
      "|POINT (-1329850.8...|\n",
      "+--------------------+\n",
      "\n"
     ]
    }
   ],
   "source": [
    "soda_list = [\"POINT (73.00043 -148.33627)\", \"POINT (75.46388 -145.63685)\", \"POINT (77.73677 -139.14153)\"]\n",
    "# soda_list = [\"POINT (77.73677 -139.14153)\"]\n",
    "soda_df = spark.createDataFrame(soda_list,StringType())\n",
    "# Convert to epsg:4087 meter-based CRS\n",
    "soda_df = soda_df.selectExpr('ST_Transform(ST_GeomFromWKT(value), \\'epsg:4326\\',\\'epsg:3413\\') as is2_df')\n",
    "soda_df.show()\n",
    "# Create circles using 50KM\n",
    "soda_df = soda_df.selectExpr('ST_Buffer(is2_df, 100000) as is2_df')\n",
    "# Convert to epsg:4326 WGS84\n",
    "soda_df = soda_df.selectExpr('ST_FlipCoordinates(ST_Transform(is2_df, \\'epsg:3413\\',\\'epsg:4326\\')) as is2_df')\n",
    "# soda_df.show()"
   ]
  },
  {
   "cell_type": "markdown",
   "metadata": {},
   "source": [
    "### Convert SODA-C result DataFrame to GeoPandas DataFrame"
   ]
  },
  {
   "cell_type": "code",
   "execution_count": 10,
   "metadata": {
    "scrolled": true
   },
   "outputs": [
    {
     "name": "stderr",
     "output_type": "stream",
     "text": [
      "/Users/jiayu/.local/share/virtualenvs/gallery-icespark-yOC315wH/lib/python3.8/site-packages/geopandas/array.py:85: ShapelyDeprecationWarning: __len__ for multi-part geometries is deprecated and will be removed in Shapely 2.0. Check the length of the `geoms` property instead to get the  number of parts of a multi-part geometry.\n",
      "  aout[:] = out\n",
      "/Users/jiayu/.local/share/virtualenvs/gallery-icespark-yOC315wH/lib/python3.8/site-packages/geopandas/geodataframe.py:35: ShapelyDeprecationWarning: The array interface is deprecated and will no longer work in Shapely 2.0. Convert the '.coords' to a numpy array instead.\n",
      "  out = from_shapely(data)\n"
     ]
    }
   ],
   "source": [
    "country_gpd = gpd.GeoDataFrame(countries_df.toPandas(), geometry=\"geometry\")\n",
    "soda_gpd = gpd.GeoDataFrame(soda_df.toPandas(), geometry=\"is2_df\")\n",
    "orbit_gpd = gpd.GeoDataFrame(result_df3.selectExpr('ST_FlipCoordinates(orbit) as orbit').toPandas(), geometry=\"orbit\")"
   ]
  },
  {
   "cell_type": "markdown",
   "metadata": {},
   "source": [
    "### Plot the maps\n",
    "\n",
    "You can uncomment different base XY to change the view of the map"
   ]
  },
  {
   "cell_type": "code",
   "execution_count": 11,
   "metadata": {
    "scrolled": true
   },
   "outputs": [
    {
     "name": "stderr",
     "output_type": "stream",
     "text": [
      "/Users/jiayu/.local/share/virtualenvs/gallery-icespark-yOC315wH/lib/python3.8/site-packages/geopandas/plotting.py:38: ShapelyDeprecationWarning: Iteration over multi-part geometries is deprecated and will be removed in Shapely 2.0. Use the `geoms` property to access the constituent parts of a multi-part geometry.\n",
      "  for poly in geom:\n",
      "/Users/jiayu/.local/share/virtualenvs/gallery-icespark-yOC315wH/lib/python3.8/site-packages/descartes/patch.py:62: ShapelyDeprecationWarning: The array interface is deprecated and will no longer work in Shapely 2.0. Convert the '.coords' to a numpy array instead.\n",
      "  vertices = concatenate([\n",
      "/Users/jiayu/.local/share/virtualenvs/gallery-icespark-yOC315wH/lib/python3.8/site-packages/descartes/patch.py:64: ShapelyDeprecationWarning: The array interface is deprecated and will no longer work in Shapely 2.0. Convert the '.coords' to a numpy array instead.\n",
      "  [asarray(r)[:, :2] for r in t.interiors])\n",
      "/Users/jiayu/.local/share/virtualenvs/gallery-icespark-yOC315wH/lib/python3.8/site-packages/geopandas/plotting.py:171: ShapelyDeprecationWarning: The array interface is deprecated and will no longer work in Shapely 2.0. Convert the '.coords' to a numpy array instead.\n",
      "  segments = [np.array(linestring)[:, :2] for linestring in geoms]\n",
      "/Users/jiayu/.local/share/virtualenvs/gallery-icespark-yOC315wH/lib/python3.8/site-packages/descartes/patch.py:62: ShapelyDeprecationWarning: The array interface is deprecated and will no longer work in Shapely 2.0. Convert the '.coords' to a numpy array instead.\n",
      "  vertices = concatenate([\n"
     ]
    },
    {
     "data": {
      "image/png": "[encoded data removed]",
      "text/plain": [
       "<Figure size 432x288 with 1 Axes>"
      ]
     },
     "metadata": {
      "needs_background": "light"
     },
     "output_type": "display_data"
    }
   ],
   "source": [
    "base = country_gpd.plot(color='yellow', edgecolor='black', zorder=1)\n",
    "base.set_facecolor('#d7fffe')\n",
    "# SODA-A Close-up view\n",
    "#base.set_xlim(-151, -146)\n",
    "#base.set_ylim(71, 75)\n",
    "# SODA-B Close-up view\n",
    "#base.set_xlim(-147.5, -143.5)\n",
    "#base.set_ylim(74, 77)\n",
    "# SODA-C Close-up view\n",
    "base.set_xlim(-150, -130)\n",
    "base.set_ylim(70, 80)\n",
    "# SODA-ABC Close-up view\n",
    "# base.set_xlim(-160, -130)\n",
    "# base.set_ylim(60, 90)\n",
    "# Global view\n",
    "# base.set_xlim(-180, 180)\n",
    "# base.set_ylim(-90, 90)\n",
    "base.set_xlabel('Longitude (degrees)')\n",
    "base.set_ylabel('Latitude (degrees)')\n",
    "orbit = orbit_gpd.plot(ax=base, color='#06470c', zorder=3)\n",
    "soda = soda_gpd.plot(ax=orbit, color='red', alpha=0.6, zorder=2)"
   ]
  },
  {
   "cell_type": "markdown",
   "metadata": {
    "scrolled": true
   },
   "source": [
    "# Demo 2:  Find the crossing between ICESat-2 orbits and Sentinel-2 and WorldView-3 images\n",
    "\n",
    "**Two Sentinel-2 image bounding boxes (lat, lon format)**\n",
    "\n",
    "S-2 image from June 22, 2019:\n",
    "```\n",
    "UL: 82.852919, -63.001439\n",
    "LL: 81.869306, -63.001267\n",
    "UR: 82.785942, -55.145842\n",
    "LR: 81.810456, -56.080844\n",
    "```\n",
    "\n",
    "Polygon format (UL - LL - LR - UR - UL): 82.852919, -63.001439, 81.869306, -63.001267, 81.810456, -56.080844, 82.785942, -55.145842, 82.852919, -63.001439\n",
    "\n",
    "S-2 image from September 3, 2019:\n",
    "```\n",
    "UL: 79.232286, -121.801758\n",
    "LL: 78.251639, -121.405181\n",
    "UR: 79.268856, -116.530467\n",
    "LR: 78.285072, -116.569403\n",
    "```\n",
    "\n",
    "Polygon format (UL - LL - LR - UR - UL): 79.232286, -121.801758, 78.251639, -121.405181, 78.285072, -116.569403, 79.268856, -116.530467, 79.232286, -121.801758\n",
    "\n",
    "**WorldView image bounding boxes (lat, lon format)**\n",
    "\n",
    "WV-3 image from April 10, 2019\n",
    "```\n",
    "UL: 79.76066207, -114.09955772\n",
    "LL: 79.62275657, -114.06853064\n",
    "UR: 79.83858880, -112.31487793\n",
    "LR: 79.69303180, -112.34933739\n",
    "```\n",
    "\n",
    "Polygon format (UL - LL - LR - UR - UL): 79.76066207, -114.09955772, 79.62275657, -114.06853064, 79.69303180, -112.34933739, 79.83858880, -112.31487793, 79.76066207, -114.09955772\n",
    "\n",
    "WV-2 image from April 10, 2019\n",
    "```\n",
    "UL: 80.0576610499, -110.56248745\n",
    "LL: 79.9244458799, -110.56242819\n",
    "UR: 80.044587680, -109.42456569\n",
    "LR: 79.9092631399, -109.42423191\n",
    "```\n",
    "\n",
    "Polygon format (UL - LL - LR - UR - UL): 80.0576610499, -110.56248745, 79.9244458799, -110.56242819, 79.9092631399, -109.42423191, 80.044587680, -109.42456569, 80.0576610499, -110.56248745\n",
    "\n",
    "WV-2 image from June 25, 2020\n",
    "```\n",
    "UL: 84.04474275, -60.80835633\n",
    "LL: 83.90936693, -60.7855143\n",
    "UR: 84.04404486, -59.21133579\n",
    "LR: 83.90966186, -59.23332056\n",
    "```\n",
    "\n",
    "Polygon format (UL - LL - LR - UR - UL): 84.04474275, -60.80835633, 83.90936693, -60.7855143, 83.90966186, -59.23332056, 84.04404486, -59.21133579, 84.04474275, -60.80835633"
   ]
  },
  {
   "cell_type": "markdown",
   "metadata": {},
   "source": [
    "## Check if orbits intersect S-2 and/or WorldView bounding boxes"
   ]
  },
  {
   "cell_type": "code",
   "execution_count": 12,
   "metadata": {},
   "outputs": [
    {
     "name": "stderr",
     "output_type": "stream",
     "text": [
      "\r",
      "[Stage 35:==>                                                     (1 + 19) / 20]\r",
      "\r",
      "                                                                                \r"
     ]
    },
    {
     "name": "stdout",
     "output_type": "stream",
     "text": [
      "+----------------------------------------+\n",
      "|filename                                |\n",
      "+----------------------------------------+\n",
      "|IS2_RGT_0018_cycle2_29-Dec-2018.kml.csv |\n",
      "|IS2_RGT_0023_cycle11_26-Mar-2021.kml.csv|\n",
      "|IS2_RGT_0033_30-Dec-2018.kml.csv        |\n",
      "|IS2_RGT_0018_cycle7_27-Mar-2020.kml.csv |\n",
      "|IS2_RGT_0023_cycle3_30-Mar-2019.kml.csv |\n",
      "|IS2_RGT_0033_cycle8_27-Jun-2020.kml.csv |\n",
      "|IS2_RGT_0018_cycle6_27-Dec-2019.kml.csv |\n",
      "|IS2_RGT_0023_cycle9_25-Sep-2020.kml.csv |\n",
      "|IS2_RGT_0033_cycle6_28-Dec-2019.kml.csv |\n",
      "|IS2_RGT_0042_cycle3_01-Apr-2019.kml.csv |\n",
      "|IS2_RGT_0042_cycle7_29-Mar-2020.kml.csv |\n",
      "|IS2_RGT_0018_cycle11_25-Mar-2021.kml.csv|\n",
      "|IS2_RGT_0023_cycle10_25-Dec-2020.kml.csv|\n",
      "|IS2_RGT_0033_cycle2_30-Dec-2018.kml.csv |\n",
      "|IS2_RGT_0042_cycle11_27-Mar-2021.kml.csv|\n",
      "|IS2_RGT_0042_cycle8_28-Jun-2020.kml.csv |\n",
      "|IS2_RGT_0018_cycle8_26-Jun-2020.kml.csv |\n",
      "|IS2_RGT_0023_cycle2_29-Dec-2018.kml.csv |\n",
      "|IS2_RGT_0033_cycle7_28-Mar-2020.kml.csv |\n",
      "|IS2_RGT_0042_31-Dec-2018.kml.csv        |\n",
      "+----------------------------------------+\n",
      "only showing top 20 rows\n",
      "\n",
      "Sentinel-2 A number of crosses:  40\n"
     ]
    },
    {
     "name": "stderr",
     "output_type": "stream",
     "text": [
      "\r",
      "[Stage 42:===============================================>        (17 + 3) / 20]\r",
      "\r",
      "                                                                                \r"
     ]
    },
    {
     "name": "stdout",
     "output_type": "stream",
     "text": [
      "Sentinel-2 B number of crosses:  10\n"
     ]
    },
    {
     "name": "stderr",
     "output_type": "stream",
     "text": [
      "\r",
      "[Stage 45:==>                                                     (1 + 19) / 20]\r",
      "\r",
      "                                                                                \r"
     ]
    },
    {
     "name": "stdout",
     "output_type": "stream",
     "text": [
      "WorldView A number of crosses:  0\n",
      "WorldView B number of crosses:  0\n",
      "WorldView C number of crosses:  10\n"
     ]
    }
   ],
   "source": [
    "# modified projection\n",
    "\n",
    "result_df1 = spark.sql('SELECT * '\n",
    "                     'FROM is2_df '\n",
    "                     'WHERE ST_Intersects(orbit, ST_PolygonFromText (\\'82.852919, -63.001439,81.869306, -63.001267, 81.810456, -56.080844, 82.785942, -55.145842, 82.852919, -63.001439\\',\\',\\'))')\n",
    "result_df1.select(\"filename\").show(truncate = False)\n",
    "print('Sentinel-2 A number of crosses: ', result_df1.count())\n",
    "\n",
    "result_df2 = spark.sql('SELECT * '\n",
    "                     'FROM is2_df '\n",
    "                     'WHERE ST_Intersects(orbit, ST_PolygonFromText (\\'79.232286, -121.801758, 78.251639, -121.405181, 78.285072, -116.569403, 79.268856, -116.530467, 79.232286, -121.801758\\',\\',\\'))')\n",
    "print('Sentinel-2 B number of crosses: ', result_df2.count())\n",
    "\n",
    "result_df3 = spark.sql('SELECT * '\n",
    "                      'FROM is2_df '\n",
    "                      'WHERE ST_Intersects(orbit, ST_PolygonFromText (\\'79.76066207, -114.09955772, 79.62275657, -114.06853064, 79.69303180, -112.34933739, 79.83858880, -112.31487793, 79.76066207, -114.09955772\\',\\',\\'))')\n",
    "print('WorldView A number of crosses: ', result_df3.count())\n",
    "\n",
    "result_df4 = spark.sql('SELECT * '\n",
    "                     'FROM is2_df '\n",
    "                     'WHERE ST_Intersects(orbit, ST_PolygonFromText (\\'80.0576610499, -110.56248745, 79.9244458799, -110.56242819, 79.9092631399, -109.42423191, 80.044587680, -109.42456569, 80.0576610499, -110.56248745\\',\\',\\'))')\n",
    "print('WorldView B number of crosses: ', result_df4.count())\n",
    "\n",
    "result_df5 = spark.sql('SELECT * '\n",
    "                     'FROM is2_df '\n",
    "                     'WHERE ST_Intersects(orbit, ST_PolygonFromText (\\'84.04474275, -60.80835633, 83.90936693, -60.7855143, 83.90966186, -59.23332056, 84.04404486, -59.21133579, 84.04474275, -60.80835633\\',\\',\\'))')\n",
    "print('WorldView C number of crosses: ', result_df5.count())"
   ]
  },
  {
   "cell_type": "markdown",
   "metadata": {},
   "source": [
    "## Find orbits in Year 2019 in the S-2 A result"
   ]
  },
  {
   "cell_type": "code",
   "execution_count": 13,
   "metadata": {},
   "outputs": [
    {
     "name": "stderr",
     "output_type": "stream",
     "text": [
      "\r",
      "[Stage 54:==================================================>     (18 + 2) / 20]\r",
      "\r",
      "                                                                                \r"
     ]
    },
    {
     "name": "stdout",
     "output_type": "stream",
     "text": [
      "+---------------------------------------+\n",
      "|filename                               |\n",
      "+---------------------------------------+\n",
      "|IS2_RGT_0018_cycle6_27-Dec-2019.kml.csv|\n",
      "|IS2_RGT_0042_cycle3_01-Apr-2019.kml.csv|\n",
      "|IS2_RGT_0018_cycle5_28-Sep-2019.kml.csv|\n",
      "|IS2_RGT_0042_cycle6_29-Dec-2019.kml.csv|\n",
      "|IS2_RGT_0018_cycle3_30-Mar-2019.kml.csv|\n",
      "|IS2_RGT_0042_cycle5_29-Sep-2019.kml.csv|\n",
      "|IS2_RGT_0023_cycle6_28-Dec-2019.kml.csv|\n",
      "|IS2_RGT_0023_cycle5_28-Sep-2019.kml.csv|\n",
      "|IS2_RGT_0023_cycle3_30-Mar-2019.kml.csv|\n",
      "|IS2_RGT_0033_cycle3_31-Mar-2019.kml.csv|\n",
      "|IS2_RGT_0033_cycle6_28-Dec-2019.kml.csv|\n",
      "|IS2_RGT_0033_cycle5_29-Sep-2019.kml.csv|\n",
      "+---------------------------------------+\n",
      "\n"
     ]
    }
   ],
   "source": [
    "result_df1.filter('filename LIKE \\'%2019%\\'').select(\"filename\").show(result_df1.count(), truncate = False)"
   ]
  },
  {
   "cell_type": "markdown",
   "metadata": {},
   "source": [
    "## Visualize crossings on S-2 A using GeoPandas "
   ]
  },
  {
   "cell_type": "markdown",
   "metadata": {},
   "source": [
    "### Put S-2 A into a DataFrame\n",
    "\n",
    "You can uncomment other examples as well"
   ]
  },
  {
   "cell_type": "code",
   "execution_count": 14,
   "metadata": {},
   "outputs": [
    {
     "name": "stdout",
     "output_type": "stream",
     "text": [
      "+--------------------+\n",
      "|                 s2a|\n",
      "+--------------------+\n",
      "|POLYGON ((-63.001...|\n",
      "+--------------------+\n",
      "\n"
     ]
    }
   ],
   "source": [
    "s2_a = spark.sql('SELECT ST_FlipCoordinates(ST_PolygonFromText (\\'82.852919, -63.001439, 81.869306, -63.001267, 81.810456, -56.080844, 82.785942, -55.145842, 82.852919, -63.001439\\',\\',\\')) as s2a')\n",
    "s2_a.show()\n",
    "#s2_a = spark.sql('SELECT ST_FlipCoordinates(ST_PolygonFromText (\\'82.852919, -63.001439, 81.869306, -63.001267, 81.810456, -56.080844, 82.785942, -55.145842, 82.852919, -63.001439\\',\\',\\')) as s2a')\n",
    "#s2_b = spark.sql('SELECT ST_FlipCoordinates(ST_PolygonFromText (\\'79.232286, -121.801758, 78.251639, -121.405181, 78.285072, -116.569403, 79.268856, -116.530467, 79.232286, -121.801758\\',\\',\\')) as s2b')\n",
    "# wv_a = spark.sql('SELECT ST_FlipCoordinates(ST_PolygonFromText (\\'79.76066207, -114.09955772, 79.62275657, -114.06853064, 79.69303180, -112.34933739, 79.83858880, -112.31487793, 79.76066207, -114.09955772\\',\\',\\')) as wva')\n",
    "#s2_a.show()\n",
    "#s2_b.show()\n",
    "#wv_a.show()"
   ]
  },
  {
   "cell_type": "markdown",
   "metadata": {},
   "source": [
    "### Convert result DataFrame to GeoPandas DataFrame"
   ]
  },
  {
   "cell_type": "code",
   "execution_count": 15,
   "metadata": {},
   "outputs": [
    {
     "name": "stderr",
     "output_type": "stream",
     "text": [
      "/Users/jiayu/.local/share/virtualenvs/gallery-icespark-yOC315wH/lib/python3.8/site-packages/geopandas/array.py:85: ShapelyDeprecationWarning: __len__ for multi-part geometries is deprecated and will be removed in Shapely 2.0. Check the length of the `geoms` property instead to get the  number of parts of a multi-part geometry.\n",
      "  aout[:] = out\n",
      "/Users/jiayu/.local/share/virtualenvs/gallery-icespark-yOC315wH/lib/python3.8/site-packages/geopandas/geodataframe.py:35: ShapelyDeprecationWarning: The array interface is deprecated and will no longer work in Shapely 2.0. Convert the '.coords' to a numpy array instead.\n",
      "  out = from_shapely(data)\n"
     ]
    }
   ],
   "source": [
    "country_gpd = gpd.GeoDataFrame(countries_df.toPandas(), geometry=\"geometry\")\n",
    "## Separate lines for each example\n",
    "s2_gpd = gpd.GeoDataFrame(s2_a.toPandas(), geometry=\"s2a\")\n",
    "#s2_gpd = gpd.GeoDataFrame(s2_b.toPandas(), geometry=\"s2b\")\n",
    "# wv_gpd = gpd.GeoDataFrame(wv_a.toPandas(), geometry=\"wva\")\n",
    "orbit_gpd = gpd.GeoDataFrame(result_df1.selectExpr('ST_FlipCoordinates(orbit) as orbit').toPandas(), geometry=\"orbit\")\n",
    "#orbit_gpd = gpd.GeoDataFrame(result_df2.selectExpr('ST_FlipCoordinates(orbit) as orbit').toPandas(), geometry=\"orbit\")\n",
    "# orbit_gpd = gpd.GeoDataFrame(result_df3.selectExpr('ST_FlipCoordinates(orbit) as orbit').toPandas(), geometry=\"orbit\")"
   ]
  },
  {
   "cell_type": "markdown",
   "metadata": {},
   "source": [
    "### Plot the maps\n",
    "You can uncomment different base XY to change the view of the map"
   ]
  },
  {
   "cell_type": "code",
   "execution_count": 16,
   "metadata": {},
   "outputs": [
    {
     "name": "stderr",
     "output_type": "stream",
     "text": [
      "/Users/jiayu/.local/share/virtualenvs/gallery-icespark-yOC315wH/lib/python3.8/site-packages/geopandas/plotting.py:38: ShapelyDeprecationWarning: Iteration over multi-part geometries is deprecated and will be removed in Shapely 2.0. Use the `geoms` property to access the constituent parts of a multi-part geometry.\n",
      "  for poly in geom:\n",
      "/Users/jiayu/.local/share/virtualenvs/gallery-icespark-yOC315wH/lib/python3.8/site-packages/descartes/patch.py:62: ShapelyDeprecationWarning: The array interface is deprecated and will no longer work in Shapely 2.0. Convert the '.coords' to a numpy array instead.\n",
      "  vertices = concatenate([\n",
      "/Users/jiayu/.local/share/virtualenvs/gallery-icespark-yOC315wH/lib/python3.8/site-packages/descartes/patch.py:64: ShapelyDeprecationWarning: The array interface is deprecated and will no longer work in Shapely 2.0. Convert the '.coords' to a numpy array instead.\n",
      "  [asarray(r)[:, :2] for r in t.interiors])\n",
      "/Users/jiayu/.local/share/virtualenvs/gallery-icespark-yOC315wH/lib/python3.8/site-packages/geopandas/plotting.py:171: ShapelyDeprecationWarning: The array interface is deprecated and will no longer work in Shapely 2.0. Convert the '.coords' to a numpy array instead.\n",
      "  segments = [np.array(linestring)[:, :2] for linestring in geoms]\n",
      "/Users/jiayu/.local/share/virtualenvs/gallery-icespark-yOC315wH/lib/python3.8/site-packages/descartes/patch.py:62: ShapelyDeprecationWarning: The array interface is deprecated and will no longer work in Shapely 2.0. Convert the '.coords' to a numpy array instead.\n",
      "  vertices = concatenate([\n"
     ]
    },
    {
     "data": {
      "image/png": "[encoded data removed]",
      "text/plain": [
       "<Figure size 432x288 with 1 Axes>"
      ]
     },
     "metadata": {
      "needs_background": "light"
     },
     "output_type": "display_data"
    }
   ],
   "source": [
    "base = country_gpd.plot(color='dimgray', edgecolor='black', zorder=1)\n",
    "base.set_facecolor('#d7fffe')\n",
    "# Sentinel-2 A view\n",
    "base.set_xlim(-65, -54)\n",
    "base.set_ylim(80, 85.5)\n",
    "# Sentinel-2 B view\n",
    "#base.set_xlim(-125, -113)\n",
    "#base.set_ylim(72, 80)\n",
    "# WorldView A view\n",
    "# base.set_xlim(-115, -111)\n",
    "# base.set_ylim(78, 81)\n",
    "# Global view\n",
    "#base.set_xlim(-180, 180)\n",
    "#base.set_ylim(-90, 90)\n",
    "base.set_xlabel('Longitude (degrees)')\n",
    "base.set_ylabel('Latitude (degrees)')\n",
    "orbit = orbit_gpd.plot(ax=base, color='#06470c', linewidth=1.75, label='IS2 RGT 1298 & 1307', zorder=3)\n",
    "s2 = s2_gpd.plot(ax=orbit, color='red', alpha=0.7, edgecolor='red', linewidth=1.75, zorder=2)\n",
    "# wv = wv_gpd.plot(ax=orbit, color='red', alpha=0.7, edgecolor='red', linewidth=1.75, label='WV-2 Image', zorder=2)\n",
    "#plt.legend(loc='upper right', framealpha=1)\n",
    "#plt.title('June 22, 2019 Sentinel-2 and IS-2 crossing')\n",
    "#plt.show()"
   ]
  },
  {
   "cell_type": "markdown",
   "metadata": {},
   "source": [
    "# Demo 3: Find the crossings between ICESat-2 orbits and MOSAiC Master track of POLARSTERN cruise"
   ]
  },
  {
   "cell_type": "code",
   "execution_count": 17,
   "metadata": {},
   "outputs": [
    {
     "data": {
      "text/plain": [
       "<function __main__.cruise_date(s)>"
      ]
     },
     "execution_count": 17,
     "metadata": {},
     "output_type": "execute_result"
    }
   ],
   "source": [
    "# Create a UDF to clean up the data\n",
    "def cruise_date(s):\n",
    "#   return s[0:10]\n",
    "  return s[0:7]\n",
    "spark.udf.register(\"cruise_date\", cruise_date)"
   ]
  },
  {
   "cell_type": "markdown",
   "metadata": {},
   "source": [
    "## Load Master track of POLARSTERN cruise into Spark\n",
    "\n",
    "The original data contains Leg 1- 4 including 28222065 coordinates, and has a size at 1.2 GB\n",
    "\n",
    "This demo only takes a sample of 1000 records."
   ]
  },
  {
   "cell_type": "code",
   "execution_count": 18,
   "metadata": {},
   "outputs": [
    {
     "name": "stdout",
     "output_type": "stream",
     "text": [
      "+-------------------+----------+----------+--------------------+\n",
      "|    Date/Time (UTC)|  Latitude| Longitude|Flag for data source|\n",
      "+-------------------+----------+----------+--------------------+\n",
      "|2019-09-20T17:30:03|69.6795466|18.9966542|                   2|\n",
      "|2019-09-20T17:44:29|69.6795462|18.9966490|                   2|\n",
      "+-------------------+----------+----------+--------------------+\n",
      "only showing top 2 rows\n",
      "\n"
     ]
    }
   ],
   "source": [
    "cruise_df = spark.read.format(\"csv\").\\\n",
    "    option(\"delimiter\", \"\\t\").\\\n",
    "    option(\"header\", \"true\").\\\n",
    "    load(\"data/PS122*head1000.txt\").\\\n",
    "    filter(col(\"Latitude\").isNotNull()).\\\n",
    "    filter(col(\"Longitude\").isNotNull()).\\\n",
    "    repartition(10)\n",
    "cruise_df.show(2)"
   ]
  },
  {
   "cell_type": "markdown",
   "metadata": {},
   "source": [
    "## Create a DataFrame with a Geometry column"
   ]
  },
  {
   "cell_type": "code",
   "execution_count": 19,
   "metadata": {},
   "outputs": [
    {
     "name": "stdout",
     "output_type": "stream",
     "text": [
      "+-------------------+--------------------+--------------------+-------+\n",
      "|    Date/Time (UTC)|Flag for data source|            location|   date|\n",
      "+-------------------+--------------------+--------------------+-------+\n",
      "|2019-09-20T17:30:03|                   2|POINT (18.9966542...|2019-09|\n",
      "|2019-09-20T17:44:29|                   2|POINT (18.996649 ...|2019-09|\n",
      "+-------------------+--------------------+--------------------+-------+\n",
      "only showing top 2 rows\n",
      "\n",
      "+-----------------------------+\n",
      "|location                     |\n",
      "+-----------------------------+\n",
      "|POINT (18.9966479 69.6795465)|\n",
      "|POINT (18.9966463 69.6795468)|\n",
      "+-----------------------------+\n",
      "only showing top 2 rows\n",
      "\n",
      "999\n"
     ]
    }
   ],
   "source": [
    "cruise_df = cruise_df.withColumn(\"location\", expr(\"ST_Point(cast(Longitude as double), cast(Latitude as double))\"))\\\n",
    ".drop(\"Longitude\").drop(\"Latitude\").withColumn(\"date\", expr(\"cruise_date(`Date/Time (UTC)`)\"))\n",
    "# .filter(\"`Date/Time (UTC)` LIKE \\'2020______T__:00:00\\'\")\n",
    "# cruise_df.createOrReplaceTempView(\"cruise_df\")\n",
    "cruise_df.show(2)\n",
    "cruise_df.select(\"location\").show(2, truncate = False)\n",
    "print(cruise_df.count())"
   ]
  },
  {
   "cell_type": "markdown",
   "metadata": {},
   "source": [
    "## Find orbits within a 50KM circle of cruise locations in Year 2019, using ST_Buffer\n",
    "\n",
    "IceSat2 data needs to be converted from WGS84 (epsg:4326) CRS to meter-based epsg:4087 (WGS 84 / World Equidistant Cylindrical) using Sedona's ST_Transform\n"
   ]
  },
  {
   "cell_type": "code",
   "execution_count": 20,
   "metadata": {
    "scrolled": true
   },
   "outputs": [
    {
     "name": "stderr",
     "output_type": "stream",
     "text": [
      "22/04/20 19:52:42 WARN JoinQuery: UseIndex is true, but no index exists. Will build index on the fly.\n",
      "                                                                                \r"
     ]
    },
    {
     "name": "stdout",
     "output_type": "stream",
     "text": [
      "The number of crossings pairs:  999\n",
      "+-------+-------------------+--------------------+--------------------+--------------------+\n",
      "|   date|    Date/Time (UTC)|Flag for data source|            location|               orbit|\n",
      "+-------+-------------------+--------------------+--------------------+--------------------+\n",
      "|2019-09|2019-09-20T17:41:16|                   2|POINT (18.9966465...|LINESTRING (-0.00...|\n",
      "|2019-09|2019-09-20T17:34:21|                   2|POINT (18.9966453...|LINESTRING (-0.00...|\n",
      "|2019-09|2019-09-20T17:40:45|                   2|POINT (18.9966464...|LINESTRING (-0.00...|\n",
      "|2019-09|2019-09-20T17:41:11|                   2|POINT (18.9966465...|LINESTRING (-0.00...|\n",
      "|2019-09|2019-09-20T17:40:50|                   2|POINT (18.9966464...|LINESTRING (-0.00...|\n",
      "|2019-09|2019-09-20T17:41:15|                   2|POINT (18.9966465...|LINESTRING (-0.00...|\n",
      "|2019-09|2019-09-20T17:40:37|                   2|POINT (18.9966463...|LINESTRING (-0.00...|\n",
      "|2019-09|2019-09-20T17:41:14|                   2|POINT (18.9966465...|LINESTRING (-0.00...|\n",
      "|2019-09|2019-09-20T17:40:57|                   2|POINT (18.9966465...|LINESTRING (-0.00...|\n",
      "|2019-09|2019-09-20T17:41:17|                   2|POINT (18.9966465...|LINESTRING (-0.00...|\n",
      "+-------+-------------------+--------------------+--------------------+--------------------+\n",
      "only showing top 10 rows\n",
      "\n"
     ]
    }
   ],
   "source": [
    "result_df = cruise_df.join(spark.table(\"is2_df\").filter('filename LIKE \\'%2019%\\'').select(\"orbit\", \"date\"), 'date').\\\n",
    "    filter(\"ST_Intersects(ST_Transform(ST_Buffer(ST_Transform(location, \\'epsg:4326\\',\\'epsg:3413\\'), 50000), \\'epsg:3413\\',\\'epsg:4326\\'), ST_FlipCoordinates(orbit))\").\\\n",
    "    cache()\n",
    "print('The number of crossings pairs: ', result_df.count())\n",
    "result_df = result_df.limit(1000) # Only send 1000 rows for visualization\n",
    "result_df.show(10)"
   ]
  },
  {
   "cell_type": "markdown",
   "metadata": {},
   "source": [
    "## Visualize the query result using GeoPandas\n",
    "\n",
    "### Convert Cruise DF to 50KM circle"
   ]
  },
  {
   "cell_type": "code",
   "execution_count": 21,
   "metadata": {
    "scrolled": true
   },
   "outputs": [
    {
     "name": "stdout",
     "output_type": "stream",
     "text": [
      "+--------------------+\n",
      "|            location|\n",
      "+--------------------+\n",
      "|POLYGON ((18.7160...|\n",
      "|POLYGON ((18.7160...|\n",
      "|POLYGON ((18.7160...|\n",
      "|POLYGON ((18.7160...|\n",
      "|POLYGON ((18.7160...|\n",
      "|POLYGON ((18.7160...|\n",
      "|POLYGON ((18.7160...|\n",
      "|POLYGON ((18.7160...|\n",
      "|POLYGON ((18.7160...|\n",
      "|POLYGON ((18.7160...|\n",
      "+--------------------+\n",
      "only showing top 10 rows\n",
      "\n"
     ]
    }
   ],
   "source": [
    "# Convert to epsg:4087 meter-based CRS\n",
    "# Only send 1000 locations for visualization\n",
    "cruise_df_viz = result_df.selectExpr('ST_Transform(location, \\'epsg:4326\\',\\'epsg:3413\\') as location')\n",
    "# cruise_df.show()\n",
    "# # Create circles using 50KM\n",
    "cruise_df_viz = cruise_df_viz.selectExpr('ST_Buffer(location, 50000) as location')\n",
    "# # Convert to epsg:4326 WGS84\n",
    "cruise_df_viz = cruise_df_viz.selectExpr('ST_Transform(location, \\'epsg:3413\\',\\'epsg:4326\\') as location')\n",
    "cruise_df_viz.show(10)"
   ]
  },
  {
   "cell_type": "markdown",
   "metadata": {},
   "source": [
    "### Convert to GeoPandas DataFrames"
   ]
  },
  {
   "cell_type": "code",
   "execution_count": 22,
   "metadata": {},
   "outputs": [
    {
     "name": "stderr",
     "output_type": "stream",
     "text": [
      "/Users/jiayu/.local/share/virtualenvs/gallery-icespark-yOC315wH/lib/python3.8/site-packages/geopandas/array.py:85: ShapelyDeprecationWarning: __len__ for multi-part geometries is deprecated and will be removed in Shapely 2.0. Check the length of the `geoms` property instead to get the  number of parts of a multi-part geometry.\n",
      "  aout[:] = out\n",
      "/Users/jiayu/.local/share/virtualenvs/gallery-icespark-yOC315wH/lib/python3.8/site-packages/geopandas/geodataframe.py:35: ShapelyDeprecationWarning: The array interface is deprecated and will no longer work in Shapely 2.0. Convert the '.coords' to a numpy array instead.\n",
      "  out = from_shapely(data)\n"
     ]
    }
   ],
   "source": [
    "country_gpd = gpd.GeoDataFrame(countries_df.toPandas(), geometry=\"geometry\")\n",
    "cruise_gpd = gpd.GeoDataFrame(cruise_df_viz.toPandas(), geometry=\"location\")\n",
    "orbit_gpd = gpd.GeoDataFrame(result_df.selectExpr('ST_FlipCoordinates(orbit) as orbit').distinct().toPandas(), geometry=\"orbit\")"
   ]
  },
  {
   "cell_type": "markdown",
   "metadata": {},
   "source": [
    "### Plot the maps"
   ]
  },
  {
   "cell_type": "code",
   "execution_count": 23,
   "metadata": {},
   "outputs": [
    {
     "name": "stderr",
     "output_type": "stream",
     "text": [
      "/Users/jiayu/.local/share/virtualenvs/gallery-icespark-yOC315wH/lib/python3.8/site-packages/geopandas/plotting.py:38: ShapelyDeprecationWarning: Iteration over multi-part geometries is deprecated and will be removed in Shapely 2.0. Use the `geoms` property to access the constituent parts of a multi-part geometry.\n",
      "  for poly in geom:\n",
      "/Users/jiayu/.local/share/virtualenvs/gallery-icespark-yOC315wH/lib/python3.8/site-packages/descartes/patch.py:62: ShapelyDeprecationWarning: The array interface is deprecated and will no longer work in Shapely 2.0. Convert the '.coords' to a numpy array instead.\n",
      "  vertices = concatenate([\n",
      "/Users/jiayu/.local/share/virtualenvs/gallery-icespark-yOC315wH/lib/python3.8/site-packages/descartes/patch.py:64: ShapelyDeprecationWarning: The array interface is deprecated and will no longer work in Shapely 2.0. Convert the '.coords' to a numpy array instead.\n",
      "  [asarray(r)[:, :2] for r in t.interiors])\n",
      "/Users/jiayu/.local/share/virtualenvs/gallery-icespark-yOC315wH/lib/python3.8/site-packages/geopandas/plotting.py:171: ShapelyDeprecationWarning: The array interface is deprecated and will no longer work in Shapely 2.0. Convert the '.coords' to a numpy array instead.\n",
      "  segments = [np.array(linestring)[:, :2] for linestring in geoms]\n",
      "/Users/jiayu/.local/share/virtualenvs/gallery-icespark-yOC315wH/lib/python3.8/site-packages/descartes/patch.py:62: ShapelyDeprecationWarning: The array interface is deprecated and will no longer work in Shapely 2.0. Convert the '.coords' to a numpy array instead.\n",
      "  vertices = concatenate([\n"
     ]
    },
    {
     "data": {
      "image/png": "[encoded data removed]",
      "text/plain": [
       "<Figure size 432x288 with 1 Axes>"
      ]
     },
     "metadata": {
      "needs_background": "light"
     },
     "output_type": "display_data"
    }
   ],
   "source": [
    "base = country_gpd.plot(color='yellow', edgecolor='black', zorder=1)\n",
    "base.set_facecolor('#d7fffe')\n",
    "# Close-up view\n",
    "base.set_xlim(15, 25)\n",
    "base.set_ylim(65, 75)\n",
    "# Global view\n",
    "# base.set_xlim(-180, 180)\n",
    "# base.set_ylim(-90, 90)\n",
    "base.set_xlabel('Longitude (degrees)')\n",
    "base.set_ylabel('Latitude (degrees)')\n",
    "orbit = orbit_gpd.plot(ax=base, color='#06470c', zorder=3)\n",
    "soda = cruise_gpd.plot(ax=orbit, color='red', alpha=0.6, zorder=2)"
   ]
  },
  {
   "cell_type": "markdown",
   "metadata": {},
   "source": [
    "# References\n",
    "\n",
    "[1] Yu, J., Zhang, Z., & Sarwat, M. (2019). Spatial data management in apache spark: the geospark perspective and\n",
    "beyond. Geolnformatica, 23(1), 37-78.\n",
    "\n",
    "[2] Stratiﬁed Ocean Dynamics of the Arctic (SODA) moorings: https://apl.uw.edu/project/project.php?id=soda (Accessed: 1 March 2021)\n",
    "\n",
    "[3] Markus, T., Neumann, T., Martino, A., Abdalati, W., Brunt, K., Csatho, B., Farrell, 8., Fricker, H., Gardner, A., Harding, D. and Jasinski, M., 2017. The Ice, Cloud,\n",
    "and land Elevation Satellite-2 (lCESat-Z): science requirements, concept, and implementation. Remote sensing of environment, 190, pp.260-273.\n",
    "\n",
    "[4] Drusch, M., Del Bello, U., Carlier, 8., Colin, 0., Fernandez, V., Gascon, F., Hoersch, B., lsola, C., Laberinti, P., Martimort, P. and Meygret, A., 2012. Sentinel-2:\n",
    "ESA‘s optical high-resolution mission for GMES operational services. Remote sensing of Environment, 120, pp.25-36.\n",
    "\n",
    "[5] WorldView-3 Satellite Sensor: https://www.satimagingcorp.com/satel|ite-sensors/worldview-3/ (Accessed: 1 March\n",
    "2021)\n",
    "\n",
    "[6] Rex, Markus (2020): Master track of POLARSTERN cruise PS122/1 in 1 sec resolution (zipped, 43.3 MB). Alfred Wegener Institute, Helmholtz Centre for Polar\n",
    "and Marine Research, Bremerhaven, PANGAEA, https:/ldoi.org/10.1594/PANGAEA.924669\n",
    "\n",
    "[7] Haas, Christian (2020): Master track of POLARSTERN cruise PS122/2 in 1 sec resolution (zipped, 36.7 MB). Alfred\n",
    "Wegener Institute, Helmholtz Centre for Polar and Marine Research, Bremerhaven, PANGAEA,\n",
    "https://doi.org/10.1594/PANGAEA.924672\n",
    "\n",
    "[8] Kanzow, Torsten (2020): Master track of POLARSTERN cruise PS122/3 in 1 sec resolution (zipped, 52 MB). Alfred\n",
    "Wegener Institute, Helmholtz Centre for Polar and Marine Research, Bremerhaven, PANGAEA,\n",
    "https://doi.org/10.1594/PANGAEA.924678\n",
    "\n",
    "[9] Rex, Markus (2021): Master track of POLARSTERN cruise PS122/4 in 1 sec resolution (zipped, 36 MB). Alfred\n",
    "Wegener Institute, Helmholtz Centre for Polar and Marine Research, Bremerhaven, PANGAEA,\n",
    "https://doi.org/10.1594/PANGAEA.926830"
   ]
  },
  {
   "cell_type": "code",
   "execution_count": null,
   "metadata": {},
   "outputs": [],
   "source": []
  }
 ],
 "metadata": {
  "kernelspec": {
   "display_name": "apache-sedona",
   "language": "python",
   "name": "apache-sedona"
  },
  "language_info": {
   "codemirror_mode": {
    "name": "ipython",
    "version": 3
   },
   "file_extension": ".py",
   "mimetype": "text/x-python",
   "name": "python",
   "nbconvert_exporter": "python",
   "pygments_lexer": "ipython3",
   "version": "3.8.2"
  }
 },
 "nbformat": 4,
 "nbformat_minor": 2
}
